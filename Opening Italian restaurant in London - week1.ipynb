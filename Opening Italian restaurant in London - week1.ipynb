{
    "cells": [
        {
            "cell_type": "markdown",
            "metadata": {
                "collapsed": true
            },
            "source": "## Coursera Capstone Project"
        },
        {
            "cell_type": "markdown",
            "metadata": {},
            "source": "#### The Battle of Neighborhoods - WEEK 1"
        },
        {
            "cell_type": "markdown",
            "metadata": {},
            "source": "## _Finding the best place to open an Italian Restaurant in London_"
        },
        {
            "cell_type": "markdown",
            "metadata": {},
            "source": "_by Laima Marcin_"
        },
        {
            "cell_type": "markdown",
            "metadata": {},
            "source": "#### PART 1 - A description of the problem and a discussion of the background"
        },
        {
            "cell_type": "markdown",
            "metadata": {},
            "source": "#### 1.1 Target audience"
        },
        {
            "cell_type": "markdown",
            "metadata": {},
            "source": "This project is intended to help people who are planning to open an Italian restaurant in London how to choose the right location by providing data about each borough of London and finding out the top  venues for each borough and checking if there are many other Italian restaurants already present in that area.\n- The **goal** is to find the place with least competitors and highest population.\n"
        },
        {
            "cell_type": "markdown",
            "metadata": {},
            "source": "#### 1.2 Discussion of the Background"
        },
        {
            "cell_type": "markdown",
            "metadata": {},
            "source": "London is the capital and largest city of England and the United Kingdom.\nLondon's 2020 population is now estimated at 9,304,016 and it keeps growing.\nLondon is one of the most multicultural cities on the planet.\nOne of the world\u2019s most visited cities, London has something for everyone: from history and culture to fine food. With such diversity, London\u2019s cultural dynamism makes it among the world\u2019s most international cities.\nLondon is a city where businesses thrive. \nThe Italian cuisine is at the top list of the Londoners\u2019 diet.\nLondon (M. Sannino, E. Robustelli, A. Biccario) \u2013 It is widely claimed that Londoners are obsessed with the Italian food, or at least, the majority of them. Such popularity of the \u2018Made in Italy\u2019 is due to the quality of their products but also due to the intense promotion made over the last few years.\n"
        },
        {
            "cell_type": "markdown",
            "metadata": {},
            "source": "#### 1.3 Description of the Problem"
        },
        {
            "cell_type": "markdown",
            "metadata": {},
            "source": "Finding the best place to open an Italian restaurant in London requires some careful consideration, research and preparation. Since there are over 39,338 food service establishments in London (restaurants, coffee shops, food halls) we need deeper insight from available data in order to be able to make a decision where to establish the first Italian restaurant."
        },
        {
            "cell_type": "markdown",
            "metadata": {},
            "source": "#### PART 2 - Data Acquisition and Processing"
        },
        {
            "cell_type": "markdown",
            "metadata": {},
            "source": "In this project, I will be using the following datasets to help solve my problem \n- List of London Boroughs (from **Wikipedia** page), and **Foursquare API**.\n\nInformation on boroughs and their population & coordinates\n- Population can be used to determine how big and how dense the specific borough is.\n- Coordinates can be used to get neighborhood data from Foursquare and finding the most popular venues in each borough and then clustering them by using K-means and analysing each cluster and finding which cluster has least restaurants and least Italians restaurants and I will provide my observation which clusters are most suitable and I will create a map using Folium library to show these clusters on London map.\n"
        },
        {
            "cell_type": "markdown",
            "metadata": {},
            "source": "#### 2.1 - Data Source"
        },
        {
            "cell_type": "markdown",
            "metadata": {},
            "source": "**Wikipedia** \nurl:  https://en.wikipedia.org/wiki/List_of_London_boroughs\n"
        },
        {
            "cell_type": "markdown",
            "metadata": {},
            "source": "**Foursquare API**\n-\tList of top 50 popular places in the neighborhood\n-\tsource: Foursquare\n-\turl: https://api.foursquare.com\n"
        },
        {
            "cell_type": "markdown",
            "metadata": {},
            "source": "#### 2.2 Data processing"
        },
        {
            "cell_type": "markdown",
            "metadata": {},
            "source": "- Create a dataframe consisting of the columns \nBoroughName = []\nPopulation = []\nCoordinates = [] by using BS4, BeautifulSoup \n- Clean and analyse the data and find how many unique boroughs there are in London and what are their coordinates (latitude and longitude)\n- Create London map and show all the boroughs on the map\nfrom geopy.geocoders import Nominatim\n- Create a function to explore all boroughs\n- Get top 50 venues in 500m radius of the centre of each Borough\n- Use One hot encoding before clustering\n- Find top 10 venues for each neighbourhood and create pandas dataframe.\n- Conduct K-means clustering to group the boroughs according to what convenience facilities they have using Foursquare data.\n- Add clustering labels\n- Merge london_grouped with london_data to add latitude/longitude for each neighbourhood\n- Create a map showing all the clusters.\n- Analyse each cluster individually and find 3 most suitable clusters for opening an Italian restaurant and I will create a map showing these 3 clusters. \n"
        }
    ],
    "metadata": {
        "kernelspec": {
            "display_name": "Python 3.6",
            "language": "python",
            "name": "python3"
        },
        "language_info": {
            "codemirror_mode": {
                "name": "ipython",
                "version": 3
            },
            "file_extension": ".py",
            "mimetype": "text/x-python",
            "name": "python",
            "nbconvert_exporter": "python",
            "pygments_lexer": "ipython3",
            "version": "3.6.9"
        }
    },
    "nbformat": 4,
    "nbformat_minor": 1
}